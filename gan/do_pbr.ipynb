{
 "cells": [
  {
   "cell_type": "code",
   "execution_count": 1,
   "metadata": {},
   "outputs": [
    {
     "name": "stderr",
     "output_type": "stream",
     "text": [
      "Using TensorFlow backend.\n"
     ]
    }
   ],
   "source": [
    "import os\n",
    "%matplotlib inline \n",
    "import matplotlib.pyplot as plt\n",
    "\n",
    "from models.cycleGAN import CycleGAN\n",
    "from utils.loaders import DataLoader\n",
    "\n",
    "%matplotlib inline\n",
    "import matplotlib.pyplot as plt\n",
    "import matplotlib.image as mpimg\n",
    "import numpy as np\n",
    "\n",
    "import cv2"
   ]
  },
  {
   "cell_type": "code",
   "execution_count": 2,
   "metadata": {},
   "outputs": [],
   "source": [
    "# run params\n",
    "SECTION = 'mlz'\n",
    "DATA_NAME = 'weights'\n",
    "RUN_FOLDER = 'run/{}/'.format(SECTION)\n",
    "RUN_FOLDER += DATA_NAME\n",
    "\n",
    "#mode =  'build' # 'build' # \n",
    "mode = ''\n",
    "\n",
    "IMAGE_SIZE = 128\n",
    "\n",
    "data_loader = DataLoader(dataset_name=DATA_NAME, img_res=(IMAGE_SIZE, IMAGE_SIZE))"
   ]
  },
  {
   "cell_type": "code",
   "execution_count": 3,
   "metadata": {},
   "outputs": [],
   "source": [
    "gan_base_diff = CycleGAN(\n",
    "    input_dim = (IMAGE_SIZE,IMAGE_SIZE,3)\n",
    "    ,learning_rate = 0.0002\n",
    "    , buffer_max_length = 50\n",
    "    , lambda_validation = 1\n",
    "    , lambda_reconstr = 10\n",
    "    , lambda_id = 2\n",
    "    , generator_type = 'unet'\n",
    "    , gen_n_filters = 32\n",
    "    , disc_n_filters = 32\n",
    "    )\n",
    "gan_base_diff.load_weights(os.path.join(RUN_FOLDER, 'base_diff/weights-below-6.h5'))"
   ]
  },
  {
   "cell_type": "code",
   "execution_count": 4,
   "metadata": {},
   "outputs": [],
   "source": [
    "gan_diff_specular = CycleGAN(\n",
    "    input_dim = (IMAGE_SIZE,IMAGE_SIZE,3)\n",
    "    ,learning_rate = 0.0002\n",
    "    , buffer_max_length = 50\n",
    "    , lambda_validation = 1\n",
    "    , lambda_reconstr = 10\n",
    "    , lambda_id = 2\n",
    "    , generator_type = 'unet'\n",
    "    , gen_n_filters = 32\n",
    "    , disc_n_filters = 32\n",
    "    )\n",
    "gan_diff_specular.load_weights(os.path.join(RUN_FOLDER, 'diff_spec/weights-below-8.h5'))"
   ]
  },
  {
   "cell_type": "code",
   "execution_count": 56,
   "metadata": {},
   "outputs": [],
   "source": [
    "base_img = data_loader.load_img('data/final/base.jpg')\n",
    "diff_img = data_loader.load_img('data/final/diff.jpg')\n",
    "real_spec_img = data_loader.load_img('data/final/diff_specular.jpg')\n",
    "fake_diff = gan_base_diff.g_BA.predict(base_img)\n",
    "fake_spec = gan_diff_specular.g_BA.predict(fake_diff)\n",
    "#fake_spec = gan_diff_specular.g_BA.predict(diff_img)"
   ]
  },
  {
   "cell_type": "code",
   "execution_count": 67,
   "metadata": {},
   "outputs": [],
   "source": [
    "# Save the generated images\n",
    "gen_imgs = np.concatenate([base_img, fake_diff, diff_img, fake_spec, real_spec_img])\n",
    "\n",
    "r, c = 1, 5\n",
    "# Rescale images 0 - 1\n",
    "gen_imgs = 0.5 * gen_imgs + 0.5\n",
    "gen_imgs = np.clip(gen_imgs, 0, 1)\n",
    "\n",
    "titles = ['Base', 'Fake Diff', 'Real Diff', 'Fake PBR', 'Real PBR']\n",
    "fig, axs = plt.subplots(r, c, figsize=(25,6))\n",
    "cnt = 0\n",
    "for j in range(c):\n",
    "    axs[j].imshow(gen_imgs[cnt])\n",
    "    axs[j].set_title(titles[j])\n",
    "    axs[j].axis('off')\n",
    "    cnt += 1\n",
    "fig.savefig(\"result.png\")\n",
    "plt.close()\n"
   ]
  },
  {
   "cell_type": "code",
   "execution_count": 71,
   "metadata": {},
   "outputs": [
    {
     "name": "stdout",
     "output_type": "stream",
     "text": [
      "0.02127417780697656\n"
     ]
    }
   ],
   "source": [
    "real_pbr_np = np.array(real_spec_img)\n",
    "fake_pbr_np = np.array(fake_spec)\n",
    "mse = ((real_pbr_np - fake_pbr_np)**2).mean(axis=None)\n",
    "print(mse)"
   ]
  },
  {
   "cell_type": "code",
   "execution_count": 70,
   "metadata": {},
   "outputs": [
    {
     "name": "stdout",
     "output_type": "stream",
     "text": [
      "MSE btw real diff and pbr\n",
      "0.0029296211693419193\n"
     ]
    }
   ],
   "source": [
    "# MSE btw real diff and pbr\n",
    "real_pbr_np = np.array(real_spec_img)\n",
    "real_diff_np = np.array(diff_img)\n",
    "mse = ((real_pbr_np - real_diff_np)**2).mean(axis=None)\n",
    "print(\"MSE btw real diff and pbr\")\n",
    "print(mse)"
   ]
  },
  {
   "cell_type": "code",
   "execution_count": 73,
   "metadata": {},
   "outputs": [
    {
     "name": "stdout",
     "output_type": "stream",
     "text": [
      "MSE btw real diff and fake diff\n",
      "0.030096739617897272\n"
     ]
    }
   ],
   "source": [
    "# MSE btw real diff and fake diff\n",
    "real_diff_np = np.array(diff_img)\n",
    "fake_diff_np = np.array(fake_diff)\n",
    "mse = ((real_diff_np - fake_diff_np)**2).mean(axis=None)\n",
    "print(\"MSE btw real diff and fake diff\")\n",
    "print(mse)"
   ]
  },
  {
   "cell_type": "code",
   "execution_count": 68,
   "metadata": {},
   "outputs": [
    {
     "name": "stdout",
     "output_type": "stream",
     "text": [
      "MSE btw base and real diff\n",
      "0.07900343567778419\n"
     ]
    }
   ],
   "source": [
    "# MSE btw base and real diff\n",
    "diff_np = np.array(diff_img)\n",
    "base_np = np.array(base_img)\n",
    "mse = ((diff_np - base_np)**2).mean(axis=None)\n",
    "print(\"MSE btw base and real diff\")\n",
    "print(mse)"
   ]
  },
  {
   "cell_type": "code",
   "execution_count": 69,
   "metadata": {},
   "outputs": [
    {
     "name": "stdout",
     "output_type": "stream",
     "text": [
      "MSE btw base and fake diff\n",
      "0.01947023363940763\n"
     ]
    }
   ],
   "source": [
    "# MSE btw base and fake diff\n",
    "fake_diff_np = np.array(fake_diff)\n",
    "base_np = np.array(base_img)\n",
    "mse = ((fake_diff_np - base_np)**2).mean(axis=None)\n",
    "print(\"MSE btw base and fake diff\")\n",
    "print(mse)"
   ]
  },
  {
   "cell_type": "code",
   "execution_count": 72,
   "metadata": {},
   "outputs": [
    {
     "name": "stdout",
     "output_type": "stream",
     "text": [
      "MSE btw fake diff and fake spec\n",
      "0.0013026507\n"
     ]
    }
   ],
   "source": [
    "# MSE btw fake diff and fake PBR\n",
    "fake_spec_np = np.array(fake_spec)\n",
    "fake_diff_np = np.array(fake_diff)\n",
    "mse = ((fake_spec_np - fake_diff_np)**2).mean(axis=None)\n",
    "print(\"MSE btw fake diff and fake spec\")\n",
    "print(mse)"
   ]
  },
  {
   "cell_type": "code",
   "execution_count": 14,
   "metadata": {},
   "outputs": [
    {
     "data": {
      "image/png": "[encoded data removed]",
      "text/plain": [
       "<Figure size 432x288 with 1 Axes>"
      ]
     },
     "metadata": {
      "needs_background": "light"
     },
     "output_type": "display_data"
    }
   ],
   "source": [
    "import matplotlib.pyplot as plt\n",
    "rng = np.random.RandomState(10)  # deterministic random data\n",
    "a = np.hstack((rng.normal(size=1000),\n",
    "               rng.normal(loc=5, scale=2, size=1000)))\n",
    "_ = plt.hist(a, bins='auto')  # arguments are passed to np.histogram\n",
    "plt.title(\"Histogram with 'auto' bins\")\n",
    "plt.show()"
   ]
  },
  {
   "cell_type": "code",
   "execution_count": 77,
   "metadata": {},
   "outputs": [
    {
     "data": {
      "image/png": "[encoded data removed]",
      "text/plain": [
       "<Figure size 432x288 with 1 Axes>"
      ]
     },
     "metadata": {
      "needs_background": "light"
     },
     "output_type": "display_data"
    }
   ],
   "source": [
    "base_img = data_loader.load_img('data/final/base.jpg')\n",
    "diff_img = data_loader.load_img('data/final/diff.jpg')\n",
    "real_spec_img = data_loader.load_img('data/final/diff_specular.jpg')\n",
    "fake_diff = gan_base_diff.g_BA.predict(base_img)\n",
    "fake_spec = gan_diff_specular.g_BA.predict(fake_diff)\n",
    "#fake_spec = gan_diff_specular.g_BA.predict(diff_img)\n",
    "\n",
    "gen_imgs = np.concatenate([base_img, fake_diff, diff_img, fake_spec, real_spec_img])\n",
    "\n",
    "gen_imgs = 0.5 * gen_imgs + 0.5\n",
    "gen_imgs = np.clip(gen_imgs, 0, 1)\n",
    "r_chan2 = gen_imgs[0, :, 0]\n",
    "np_r_chan2 = np.array(r_chan2)\n",
    "img2 = np_r_chan2.flatten()\n",
    "\n",
    "\n",
    "plt.plot(img2)\n",
    "plt.title(\"Histogram with 'auto' bins\")\n",
    "plt.show()"
   ]
  },
  {
   "cell_type": "code",
   "execution_count": 42,
   "metadata": {},
   "outputs": [
    {
     "data": {
      "image/png": "[encoded data removed]",
      "text/plain": [
       "<Figure size 432x288 with 1 Axes>"
      ]
     },
     "metadata": {
      "needs_background": "light"
     },
     "output_type": "display_data"
    }
   ],
   "source": [
    "fakek2 = 0.5 * fake_spec + 0.5\n",
    "fakek2 = np.clip(fakek2, 0, 1)\n",
    "r_chan2 = fakek2[:, 0]\n",
    "img2 = r_chan2.flatten()\n",
    "\n",
    "\n",
    "plt.plot(img2)\n",
    "plt.title(\"Histogram with 'auto' bins\")\n",
    "plt.show()"
   ]
  },
  {
   "cell_type": "code",
   "execution_count": null,
   "metadata": {},
   "outputs": [],
   "source": []
  }
 ],
 "metadata": {
  "kernelspec": {
   "display_name": "gen2",
   "language": "python",
   "name": "gen2"
  },
  "language_info": {
   "codemirror_mode": {
    "name": "ipython",
    "version": 3
   },
   "file_extension": ".py",
   "mimetype": "text/x-python",
   "name": "python",
   "nbconvert_exporter": "python",
   "pygments_lexer": "ipython3",
   "version": "3.6.9"
  }
 },
 "nbformat": 4,
 "nbformat_minor": 2
}
